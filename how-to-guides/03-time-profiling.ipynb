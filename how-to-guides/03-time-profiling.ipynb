{
 "cells": [
  {
   "cell_type": "markdown",
   "metadata": {
    "id": "_1FzCFk3a1S3"
   },
   "source": [
    "<!-- ---\n",
    "title: How to do time profiling\n",
    "weight: 3\n",
    "downloads: true\n",
    "sidebar: true\n",
    "summary: Learn how to get the time breakdown for individual epochs during training, individual events, all handlers corresponding to an event, individual handlers, data loading and data processing using Engine's State, BasicTimeProfiler and HandlersTimeProfiler.\n",
    "tags:\n",
    "  - time-profiling\n",
    "  - engine.state.times\n",
    "  - BasicTimeProfiler\n",
    "  - HandlersTimeProfiler\n",
    "--- -->\n",
    "# How to do time profiling"
   ]
  },
  {
   "cell_type": "markdown",
   "metadata": {
    "id": "2J7z60CkssXg"
   },
   "source": [
    "This example demonstrates how you can get the time breakdown for:\n",
    "- Individual epochs during training\n",
    "- Total training time\n",
    "- Individual [`Events`](https://pytorch.org/ignite/concepts.html#events-and-handlers)\n",
    "- All [`Handlers`](https://pytorch.org/ignite/concepts.html#handlers) correspoding to an `Event`\n",
    "- Individual `Handlers`\n",
    "- Data loading and Data processing.\n",
    "\n",
    "In this example, we will be using a ResNet18 model on the MNIST dataset. The base code is the same as used in the [Getting Started Guide](https://pytorch-ignite.ai/tutorials/getting-started/)."
   ]
  },
  {
   "cell_type": "markdown",
   "metadata": {
    "id": "THcUNAgpWMDF"
   },
   "source": [
    "## Basic Setup"
   ]
  },
  {
   "cell_type": "code",
   "execution_count": 1,
   "metadata": {
    "id": "Y0sJP9iFa1TB",
    "pycharm": {
     "is_executing": false
    }
   },
   "outputs": [],
   "source": [
    "import pandas as pd\n",
    "\n",
    "import torch\n",
    "from torch import nn\n",
    "from torch.utils.data import DataLoader\n",
    "from torchvision.datasets import MNIST\n",
    "from torchvision.models import resnet18\n",
    "from torchvision.transforms import Compose, Normalize, ToTensor\n",
    "\n",
    "from ignite.engine import Events, create_supervised_trainer, create_supervised_evaluator\n",
    "from ignite.metrics import Accuracy, Loss\n",
    "from ignite.handlers import Timer, BasicTimeProfiler, HandlersTimeProfiler"
   ]
  },
  {
   "cell_type": "code",
   "execution_count": 2,
   "metadata": {},
   "outputs": [
    {
     "data": {
      "text/plain": [
       "True"
      ]
     },
     "execution_count": 2,
     "metadata": {},
     "output_type": "execute_result"
    }
   ],
   "source": [
    "torch.cuda.is_available()"
   ]
  },
  {
   "cell_type": "code",
   "execution_count": 3,
   "metadata": {
    "id": "iK_9cOP6a1TI"
   },
   "outputs": [],
   "source": [
    "device = torch.device(\"cuda\" if torch.cuda.is_available() else \"cpu\")\n",
    "\n",
    "\n",
    "class Net(nn.Module):\n",
    "    def __init__(self):\n",
    "        super(Net, self).__init__()\n",
    "\n",
    "        self.model = resnet18(num_classes=10)\n",
    "        self.model.conv1 = nn.Conv2d(1, 64, kernel_size=3, padding=1, bias=False)\n",
    "\n",
    "    def forward(self, x):\n",
    "        return self.model(x)\n",
    "\n",
    "\n",
    "model = Net().to(device)\n",
    "\n",
    "data_transform = Compose([ToTensor(), Normalize((0.1307,), (0.3081,))])\n",
    "\n",
    "train_loader = DataLoader(\n",
    "    MNIST(download=True, root=\".\", transform=data_transform, train=True),\n",
    "    batch_size=128,\n",
    "    shuffle=True,\n",
    ")\n",
    "\n",
    "val_loader = DataLoader(\n",
    "    MNIST(download=True, root=\".\", transform=data_transform, train=False),\n",
    "    batch_size=256,\n",
    "    shuffle=False,\n",
    ")\n",
    "\n",
    "optimizer = torch.optim.RMSprop(model.parameters(), lr=0.005)\n",
    "criterion = nn.CrossEntropyLoss()"
   ]
  },
  {
   "cell_type": "markdown",
   "metadata": {
    "id": "WUHh-vc73eut"
   },
   "source": [
    "We attach two handlers to the `trainer` to print out the metrics ([`Accuracy`](https://pytorch.org/ignite/generated/ignite.metrics.Accuracy.html#accuracy) and [`Loss`](https://pytorch.org/ignite/generated/ignite.metrics.Loss.html#loss)) of the train and validation dataset at the end of every epoch."
   ]
  },
  {
   "cell_type": "code",
   "execution_count": 4,
   "metadata": {
    "id": "ItoswUK-23St"
   },
   "outputs": [],
   "source": [
    "trainer = create_supervised_trainer(model, optimizer, criterion, device=device)\n",
    "evaluator = create_supervised_evaluator(\n",
    "    model, metrics={\"accuracy\": Accuracy(), \"loss\": Loss(criterion)}, device=device\n",
    ")\n",
    "\n",
    "\n",
    "@trainer.on(Events.EPOCH_COMPLETED)\n",
    "def log_training_results(trainer):\n",
    "    evaluator.run(train_loader)\n",
    "    metrics = evaluator.state.metrics\n",
    "    print(\n",
    "        f\"Training Results - Epoch[{trainer.state.epoch}] Avg accuracy: {metrics['accuracy']:.2f} Avg loss: {metrics['loss']:.2f}\"\n",
    "    )\n",
    "\n",
    "\n",
    "@trainer.on(Events.EPOCH_COMPLETED)\n",
    "def log_validation_results(trainer):\n",
    "    evaluator.run(val_loader)\n",
    "    metrics = evaluator.state.metrics\n",
    "    print(\n",
    "        f\"Validation Results - Epoch[{trainer.state.epoch}] Avg accuracy: {metrics['accuracy']:.2f} Avg loss: {metrics['loss']:.2f}\"\n",
    "    )"
   ]
  },
  {
   "cell_type": "markdown",
   "metadata": {
    "id": "kTD4UFuZWUSe"
   },
   "source": [
    "## Using `State` of Events\n",
    "\n",
    "If we just want to print the time taken for every epoch and the total time for training we can simply use the `trainer`'s [`State`](https://pytorch.org/ignite/generated/ignite.engine.events.State.html#ignite.engine.events.State). We attach two separate handlers fired when an epoch is completed and when the training is completed to log the time returned by `trainer.state.times`."
   ]
  },
  {
   "cell_type": "code",
   "execution_count": 5,
   "metadata": {
    "id": "2m1pOALZ3vCO"
   },
   "outputs": [],
   "source": [
    "@trainer.on(Events.EPOCH_COMPLETED)\n",
    "def log_epoch_time():\n",
    "    print(\n",
    "        f\"Epoch {trainer.state.epoch}, Time Taken : {trainer.state.times['EPOCH_COMPLETED']}\"\n",
    "    )\n",
    "\n",
    "\n",
    "@trainer.on(Events.COMPLETED)\n",
    "def log_total_time():\n",
    "    print(f\"Total Time: {trainer.state.times['COMPLETED']}\")"
   ]
  },
  {
   "cell_type": "code",
   "execution_count": 6,
   "metadata": {
    "colab": {
     "base_uri": "https://localhost:8080/"
    },
    "id": "hmdHZIDIABc9",
    "outputId": "6b4cbdb9-870f-44b4-d8ff-70be57a5c847"
   },
   "outputs": [
    {
     "name": "stdout",
     "output_type": "stream",
     "text": [
      "Training Results - Epoch[1] Avg accuracy: 0.81 Avg loss: 0.77\n",
      "Validation Results - Epoch[1] Avg accuracy: 0.81 Avg loss: 0.76\n",
      "Epoch 1, Time Taken : 30.561065673828125\n",
      "Training Results - Epoch[2] Avg accuracy: 0.99 Avg loss: 0.04\n",
      "Validation Results - Epoch[2] Avg accuracy: 0.99 Avg loss: 0.04\n",
      "Epoch 2, Time Taken : 30.345932245254517\n",
      "Total Time: 106.16696953773499\n"
     ]
    },
    {
     "data": {
      "text/plain": [
       "State:\n",
       "\titeration: 938\n",
       "\tepoch: 2\n",
       "\tepoch_length: 469\n",
       "\tmax_epochs: 2\n",
       "\toutput: 0.04203188791871071\n",
       "\tbatch: <class 'list'>\n",
       "\tmetrics: <class 'dict'>\n",
       "\tdataloader: <class 'torch.utils.data.dataloader.DataLoader'>\n",
       "\tseed: <class 'NoneType'>\n",
       "\ttimes: <class 'dict'>"
      ]
     },
     "execution_count": 6,
     "metadata": {},
     "output_type": "execute_result"
    }
   ],
   "source": [
    "trainer.run(train_loader, max_epochs=2)"
   ]
  },
  {
   "cell_type": "markdown",
   "metadata": {
    "id": "IlT7TUokNIQ7"
   },
   "source": [
    "## Event-based profiling using `BasicTimeProfiler`\n",
    "\n",
    "If we want more information such as the time taken by data processing, data loading and all pre-defined events, we can use [`BasicTimeProfiler()`](https://pytorch.org/ignite/generated/ignite.handlers.time_profilers.BasicTimeProfiler.html#basictimeprofiler)."
   ]
  },
  {
   "cell_type": "code",
   "execution_count": 7,
   "metadata": {
    "colab": {
     "base_uri": "https://localhost:8080/"
    },
    "id": "dU37erdra1TK",
    "outputId": "296cf759-0c9d-45f2-c2cf-6911b464b21f"
   },
   "outputs": [
    {
     "name": "stdout",
     "output_type": "stream",
     "text": [
      "Training Results - Epoch[1] Avg accuracy: 0.97 Avg loss: 0.10\n",
      "Validation Results - Epoch[1] Avg accuracy: 0.97 Avg loss: 0.11\n",
      "Epoch 1, Time Taken : 31.017117738723755\n",
      "Training Results - Epoch[2] Avg accuracy: 0.99 Avg loss: 0.04\n",
      "Validation Results - Epoch[2] Avg accuracy: 0.99 Avg loss: 0.04\n",
      "Epoch 2, Time Taken : 30.823465585708618\n",
      "Total Time: 106.84157538414001\n"
     ]
    },
    {
     "data": {
      "text/plain": [
       "State:\n",
       "\titeration: 938\n",
       "\tepoch: 2\n",
       "\tepoch_length: 469\n",
       "\tmax_epochs: 2\n",
       "\toutput: 0.0196420568972826\n",
       "\tbatch: <class 'list'>\n",
       "\tmetrics: <class 'dict'>\n",
       "\tdataloader: <class 'torch.utils.data.dataloader.DataLoader'>\n",
       "\tseed: <class 'NoneType'>\n",
       "\ttimes: <class 'dict'>"
      ]
     },
     "execution_count": 7,
     "metadata": {},
     "output_type": "execute_result"
    }
   ],
   "source": [
    "# Attach basic profiler\n",
    "basic_profiler = BasicTimeProfiler()\n",
    "basic_profiler.attach(trainer)\n",
    "\n",
    "trainer.run(train_loader, max_epochs=2)"
   ]
  },
  {
   "cell_type": "markdown",
   "metadata": {
    "id": "1zGDVT4ACJSN"
   },
   "source": [
    "We can then obtain the results dictionary via [`get_results()`](https://pytorch.org/ignite/generated/ignite.handlers.time_profilers.BasicTimeProfiler.html#ignite.handlers.time_profilers.BasicTimeProfiler.get_results) and pass it to [`print_results()`](https://pytorch.org/ignite/generated/ignite.handlers.time_profilers.BasicTimeProfiler.html#ignite.handlers.time_profilers.BasicTimeProfiler.print_results) to get a nicely formatted output which contains total, minimum, maximum, mean and the standard deviation of the time taken."
   ]
  },
  {
   "cell_type": "code",
   "execution_count": 8,
   "metadata": {
    "colab": {
     "base_uri": "https://localhost:8080/"
    },
    "id": "dPxd8R82BfKZ",
    "outputId": "2540f3ff-3986-42d7-c940-7fcd46ef6d13"
   },
   "outputs": [
    {
     "name": "stdout",
     "output_type": "stream",
     "text": [
      "\n",
      " ----------------------------------------------------\n",
      "| Time profiling stats (in seconds):                 |\n",
      " ----------------------------------------------------\n",
      "total  |  min/index  |  max/index  |  mean  |  std\n",
      "\n",
      "Processing function:\n",
      "29.13892 | 0.02468/937 | 0.05723/683 | 0.03106 | 0.00207\n",
      "\n",
      "Dataflow:\n",
      "32.54478 | 0.02718/936 | 0.05630/879 | 0.03470 | 0.00192\n",
      "\n",
      "Event handlers:\n",
      "45.01582\n",
      "\n",
      "- Events.STARTED: []\n",
      "0.00001\n",
      "\n",
      "- Events.EPOCH_STARTED: []\n",
      "0.00001 | 0.00000/1 | 0.00000/0 | 0.00000 | 0.00000\n",
      "\n",
      "- Events.ITERATION_STARTED: []\n",
      "0.00248 | 0.00000/506 | 0.00001/773 | 0.00000 | 0.00000\n",
      "\n",
      "- Events.ITERATION_COMPLETED: []\n",
      "0.00566 | 0.00000/122 | 0.00003/196 | 0.00001 | 0.00000\n",
      "\n",
      "- Events.EPOCH_COMPLETED: ['log_training_results', 'log_validation_results', 'log_epoch_time']\n",
      "44.99903 | 22.49951/0 | 22.49952/1 | 22.49952 | 0.00001\n",
      "\n",
      "- Events.COMPLETED: ['log_total_time']\n",
      "0.00004\n",
      "\n"
     ]
    }
   ],
   "source": [
    "results = basic_profiler.get_results()\n",
    "basic_profiler.print_results(results);"
   ]
  },
  {
   "cell_type": "markdown",
   "metadata": {
    "id": "YFzTSk-EChQd"
   },
   "source": [
    "**Note**: This approach does not get the time taken by an individual handler rather the sum of the time taken by all handlers corresponding to a pre-defined event."
   ]
  },
  {
   "cell_type": "markdown",
   "metadata": {
    "id": "orRhb-Z1N8vq"
   },
   "source": [
    "## Handler-based profiling using `HandlersTimeProfiler`\n",
    "\n",
    "We can overcome the above problem by using [`HandlersTimeProfiler`](https://pytorch.org/ignite/generated/ignite.handlers.time_profilers.HandlersTimeProfiler.html#handlerstimeprofiler) which gives us only the necessary information. We can also calculate the time taken by handlers attached to [`Custom Events`](https://pytorch.org/ignite/concepts.html#custom-events), which was not previously possible, via this."
   ]
  },
  {
   "cell_type": "code",
   "execution_count": 9,
   "metadata": {
    "id": "zdWobxOs_nuO"
   },
   "outputs": [],
   "source": [
    "# Attach handlers profiler\n",
    "handlers_profiler = HandlersTimeProfiler()\n",
    "handlers_profiler.attach(trainer)"
   ]
  },
  {
   "cell_type": "code",
   "execution_count": 10,
   "metadata": {
    "colab": {
     "base_uri": "https://localhost:8080/"
    },
    "id": "ZJd487jMBqw2",
    "outputId": "3b6c2813-1847-4d0a-f7c1-87ef8e9df544"
   },
   "outputs": [
    {
     "name": "stdout",
     "output_type": "stream",
     "text": [
      "Training Results - Epoch[1] Avg accuracy: 0.99 Avg loss: 0.03\n",
      "Validation Results - Epoch[1] Avg accuracy: 0.99 Avg loss: 0.03\n",
      "Epoch 1, Time Taken : 30.312674283981323\n",
      "Training Results - Epoch[2] Avg accuracy: 1.00 Avg loss: 0.01\n",
      "Validation Results - Epoch[2] Avg accuracy: 0.99 Avg loss: 0.03\n",
      "Epoch 2, Time Taken : 30.6004695892334\n",
      "Total Time: 105.75494718551636\n"
     ]
    },
    {
     "data": {
      "text/plain": [
       "State:\n",
       "\titeration: 938\n",
       "\tepoch: 2\n",
       "\tepoch_length: 469\n",
       "\tmax_epochs: 2\n",
       "\toutput: 0.0030986731871962547\n",
       "\tbatch: <class 'list'>\n",
       "\tmetrics: <class 'dict'>\n",
       "\tdataloader: <class 'torch.utils.data.dataloader.DataLoader'>\n",
       "\tseed: <class 'NoneType'>\n",
       "\ttimes: <class 'dict'>"
      ]
     },
     "execution_count": 10,
     "metadata": {},
     "output_type": "execute_result"
    }
   ],
   "source": [
    "trainer.run(train_loader, max_epochs=2)"
   ]
  },
  {
   "cell_type": "markdown",
   "metadata": {
    "id": "T_AIlhvqa1TK"
   },
   "source": [
    "We can print the results of the profiler in the same way as above. The output shows total, average and other details of execution time for each handler attached. It also shows the data processing and data loading times."
   ]
  },
  {
   "cell_type": "code",
   "execution_count": 11,
   "metadata": {
    "colab": {
     "base_uri": "https://localhost:8080/"
    },
    "id": "S8J8iWyUa1TL",
    "outputId": "d8ccdbe9-f207-4ac7-a090-273716dee5a4"
   },
   "outputs": [
    {
     "name": "stdout",
     "output_type": "stream",
     "text": [
      "\n",
      "---------------------------------------  -------------------  --------------  --------------  --------------  --------------  --------------  \n",
      "Handler                                  Event Name                 Total(s)      Min(s)/IDX      Max(s)/IDX         Mean(s)          Std(s)  \n",
      "---------------------------------------  -------------------  --------------  --------------  --------------  --------------  --------------  \n",
      "log_training_results                     EPOCH_COMPLETED            38.70607      19.28356/0      19.42251/1        19.35303         0.09826  \n",
      "log_validation_results                   EPOCH_COMPLETED             6.13452       3.04471/0       3.08981/1         3.06726         0.03189  \n",
      "log_epoch_time                           EPOCH_COMPLETED               7e-05         4e-05/1         4e-05/0           4e-05             0.0  \n",
      "BasicTimeProfiler._as_first_started      STARTED                     0.00024       0.00024/0       0.00024/0         0.00024            None  \n",
      "log_total_time                           COMPLETED                     3e-05         3e-05/0         3e-05/0           3e-05            None  \n",
      "---------------------------------------  -------------------  --------------  --------------  --------------  --------------  --------------  \n",
      "Total                                                               44.84093                                                                  \n",
      "---------------------------------------  -------------------  --------------  --------------  --------------  --------------  --------------  \n",
      "Processing took total 28.46255s [min/index: 0.02478s/468, max/index: 0.04123s/572, mean: 0.03034s, std: 0.00149s]\n",
      "Dataflow took total 32.30685s [min/index: 0.02682s/468, max/index: 0.08339s/0, mean: 0.03444s, std: 0.00332s]\n",
      "\n"
     ]
    }
   ],
   "source": [
    "results = handlers_profiler.get_results()\n",
    "handlers_profiler.print_results(results)"
   ]
  },
  {
   "cell_type": "markdown",
   "metadata": {
    "id": "F0yJpyC7a1TM"
   },
   "source": [
    "The profiling results obtained by `basic_profiler` and `handler_profiler` can be exported to a CSV file by using the `write_results()` method."
   ]
  },
  {
   "cell_type": "code",
   "execution_count": 12,
   "metadata": {
    "id": "_6a0t-Xha1TM"
   },
   "outputs": [],
   "source": [
    "basic_profiler.write_results(\"./basic_profile.csv\")\n",
    "handlers_profiler.write_results(\"./handlers_profile.csv\")"
   ]
  },
  {
   "cell_type": "markdown",
   "metadata": {
    "id": "-hG8hYQba1TM"
   },
   "source": [
    "If we inspect the CSV file of `basic_profiler` we can see the depth of information stored for every iteration."
   ]
  },
  {
   "cell_type": "code",
   "execution_count": 13,
   "metadata": {
    "colab": {
     "base_uri": "https://localhost:8080/",
     "height": 226
    },
    "id": "f4ZiVInXa1TO",
    "outputId": "1377a07d-d963-4d3b-dcd1-0b68179a56a2"
   },
   "outputs": [
    {
     "data": {
      "text/html": [
       "<div>\n",
       "<style scoped>\n",
       "    .dataframe tbody tr th:only-of-type {\n",
       "        vertical-align: middle;\n",
       "    }\n",
       "\n",
       "    .dataframe tbody tr th {\n",
       "        vertical-align: top;\n",
       "    }\n",
       "\n",
       "    .dataframe thead th {\n",
       "        text-align: right;\n",
       "    }\n",
       "</style>\n",
       "<table border=\"1\" class=\"dataframe\">\n",
       "  <thead>\n",
       "    <tr style=\"text-align: right;\">\n",
       "      <th></th>\n",
       "      <th>epoch</th>\n",
       "      <th>iteration</th>\n",
       "      <th>processing_stats</th>\n",
       "      <th>dataflow_stats</th>\n",
       "      <th>Event_STARTED</th>\n",
       "      <th>Event_COMPLETED</th>\n",
       "      <th>Event_EPOCH_STARTED</th>\n",
       "      <th>Event_EPOCH_COMPLETED</th>\n",
       "      <th>Event_ITERATION_STARTED</th>\n",
       "      <th>Event_ITERATION_COMPLETED</th>\n",
       "      <th>Event_GET_BATCH_STARTED</th>\n",
       "      <th>Event_GET_BATCH_COMPLETED</th>\n",
       "    </tr>\n",
       "  </thead>\n",
       "  <tbody>\n",
       "    <tr>\n",
       "      <th>0</th>\n",
       "      <td>1.0</td>\n",
       "      <td>1.0</td>\n",
       "      <td>0.038544</td>\n",
       "      <td>0.078380</td>\n",
       "      <td>0.000016</td>\n",
       "      <td>0.000081</td>\n",
       "      <td>0.000003</td>\n",
       "      <td>22.328335</td>\n",
       "      <td>0.000005</td>\n",
       "      <td>0.000010</td>\n",
       "      <td>0.000006</td>\n",
       "      <td>0.000011</td>\n",
       "    </tr>\n",
       "    <tr>\n",
       "      <th>1</th>\n",
       "      <td>1.0</td>\n",
       "      <td>2.0</td>\n",
       "      <td>0.034229</td>\n",
       "      <td>0.034714</td>\n",
       "      <td>0.000016</td>\n",
       "      <td>0.000081</td>\n",
       "      <td>0.000003</td>\n",
       "      <td>22.328335</td>\n",
       "      <td>0.000005</td>\n",
       "      <td>0.000009</td>\n",
       "      <td>0.000006</td>\n",
       "      <td>0.000009</td>\n",
       "    </tr>\n",
       "    <tr>\n",
       "      <th>2</th>\n",
       "      <td>1.0</td>\n",
       "      <td>3.0</td>\n",
       "      <td>0.033846</td>\n",
       "      <td>0.034706</td>\n",
       "      <td>0.000016</td>\n",
       "      <td>0.000081</td>\n",
       "      <td>0.000003</td>\n",
       "      <td>22.328335</td>\n",
       "      <td>0.000004</td>\n",
       "      <td>0.000010</td>\n",
       "      <td>0.000006</td>\n",
       "      <td>0.000009</td>\n",
       "    </tr>\n",
       "    <tr>\n",
       "      <th>3</th>\n",
       "      <td>1.0</td>\n",
       "      <td>4.0</td>\n",
       "      <td>0.033814</td>\n",
       "      <td>0.034437</td>\n",
       "      <td>0.000016</td>\n",
       "      <td>0.000081</td>\n",
       "      <td>0.000003</td>\n",
       "      <td>22.328335</td>\n",
       "      <td>0.000004</td>\n",
       "      <td>0.000009</td>\n",
       "      <td>0.000005</td>\n",
       "      <td>0.000009</td>\n",
       "    </tr>\n",
       "    <tr>\n",
       "      <th>4</th>\n",
       "      <td>1.0</td>\n",
       "      <td>5.0</td>\n",
       "      <td>0.033894</td>\n",
       "      <td>0.035126</td>\n",
       "      <td>0.000016</td>\n",
       "      <td>0.000081</td>\n",
       "      <td>0.000003</td>\n",
       "      <td>22.328335</td>\n",
       "      <td>0.000004</td>\n",
       "      <td>0.000009</td>\n",
       "      <td>0.000006</td>\n",
       "      <td>0.000009</td>\n",
       "    </tr>\n",
       "  </tbody>\n",
       "</table>\n",
       "</div>"
      ],
      "text/plain": [
       "   epoch  iteration  processing_stats  dataflow_stats  Event_STARTED  \\\n",
       "0    1.0        1.0          0.038544        0.078380       0.000016   \n",
       "1    1.0        2.0          0.034229        0.034714       0.000016   \n",
       "2    1.0        3.0          0.033846        0.034706       0.000016   \n",
       "3    1.0        4.0          0.033814        0.034437       0.000016   \n",
       "4    1.0        5.0          0.033894        0.035126       0.000016   \n",
       "\n",
       "   Event_COMPLETED  Event_EPOCH_STARTED  Event_EPOCH_COMPLETED  \\\n",
       "0         0.000081             0.000003              22.328335   \n",
       "1         0.000081             0.000003              22.328335   \n",
       "2         0.000081             0.000003              22.328335   \n",
       "3         0.000081             0.000003              22.328335   \n",
       "4         0.000081             0.000003              22.328335   \n",
       "\n",
       "   Event_ITERATION_STARTED  Event_ITERATION_COMPLETED  \\\n",
       "0                 0.000005                   0.000010   \n",
       "1                 0.000005                   0.000009   \n",
       "2                 0.000004                   0.000010   \n",
       "3                 0.000004                   0.000009   \n",
       "4                 0.000004                   0.000009   \n",
       "\n",
       "   Event_GET_BATCH_STARTED  Event_GET_BATCH_COMPLETED  \n",
       "0                 0.000006                   0.000011  \n",
       "1                 0.000006                   0.000009  \n",
       "2                 0.000006                   0.000009  \n",
       "3                 0.000005                   0.000009  \n",
       "4                 0.000006                   0.000009  "
      ]
     },
     "execution_count": 13,
     "metadata": {},
     "output_type": "execute_result"
    }
   ],
   "source": [
    "basic_profile = pd.read_csv(\"./basic_profile.csv\")\n",
    "basic_profile.head()"
   ]
  },
  {
   "cell_type": "markdown",
   "metadata": {
    "id": "Tj06RU9AON93"
   },
   "source": [
    "The `handlers_profile` CSV stores the details for whenever a handler was evoked which corresponds to the number of rows. "
   ]
  },
  {
   "cell_type": "code",
   "execution_count": 14,
   "metadata": {
    "colab": {
     "base_uri": "https://localhost:8080/",
     "height": 224
    },
    "id": "GHCbe28yG0bB",
    "outputId": "545566cb-ddac-484f-f7d3-9d7560e1e5c8"
   },
   "outputs": [
    {
     "data": {
      "text/html": [
       "<div>\n",
       "<style scoped>\n",
       "    .dataframe tbody tr th:only-of-type {\n",
       "        vertical-align: middle;\n",
       "    }\n",
       "\n",
       "    .dataframe tbody tr th {\n",
       "        vertical-align: top;\n",
       "    }\n",
       "\n",
       "    .dataframe thead th {\n",
       "        text-align: right;\n",
       "    }\n",
       "</style>\n",
       "<table border=\"1\" class=\"dataframe\">\n",
       "  <thead>\n",
       "    <tr style=\"text-align: right;\">\n",
       "      <th></th>\n",
       "      <th>#</th>\n",
       "      <th>processing_stats</th>\n",
       "      <th>dataflow_stats</th>\n",
       "      <th>log_training_results (EPOCH_COMPLETED)</th>\n",
       "      <th>log_validation_results (EPOCH_COMPLETED)</th>\n",
       "      <th>log_epoch_time (EPOCH_COMPLETED)</th>\n",
       "      <th>BasicTimeProfiler._as_first_started (STARTED)</th>\n",
       "      <th>log_total_time (COMPLETED)</th>\n",
       "    </tr>\n",
       "  </thead>\n",
       "  <tbody>\n",
       "    <tr>\n",
       "      <th>0</th>\n",
       "      <td>1.0</td>\n",
       "      <td>0.038602</td>\n",
       "      <td>0.083391</td>\n",
       "      <td>19.283556</td>\n",
       "      <td>3.044708</td>\n",
       "      <td>0.000036</td>\n",
       "      <td>0.000238</td>\n",
       "      <td>0.000035</td>\n",
       "    </tr>\n",
       "    <tr>\n",
       "      <th>1</th>\n",
       "      <td>2.0</td>\n",
       "      <td>0.034283</td>\n",
       "      <td>0.078344</td>\n",
       "      <td>19.422510</td>\n",
       "      <td>3.089813</td>\n",
       "      <td>0.000035</td>\n",
       "      <td>0.000000</td>\n",
       "      <td>0.000000</td>\n",
       "    </tr>\n",
       "    <tr>\n",
       "      <th>2</th>\n",
       "      <td>3.0</td>\n",
       "      <td>0.033905</td>\n",
       "      <td>0.034680</td>\n",
       "      <td>0.000000</td>\n",
       "      <td>0.000000</td>\n",
       "      <td>0.000000</td>\n",
       "      <td>0.000000</td>\n",
       "      <td>0.000000</td>\n",
       "    </tr>\n",
       "    <tr>\n",
       "      <th>3</th>\n",
       "      <td>4.0</td>\n",
       "      <td>0.033867</td>\n",
       "      <td>0.034673</td>\n",
       "      <td>0.000000</td>\n",
       "      <td>0.000000</td>\n",
       "      <td>0.000000</td>\n",
       "      <td>0.000000</td>\n",
       "      <td>0.000000</td>\n",
       "    </tr>\n",
       "    <tr>\n",
       "      <th>4</th>\n",
       "      <td>5.0</td>\n",
       "      <td>0.033948</td>\n",
       "      <td>0.034403</td>\n",
       "      <td>0.000000</td>\n",
       "      <td>0.000000</td>\n",
       "      <td>0.000000</td>\n",
       "      <td>0.000000</td>\n",
       "      <td>0.000000</td>\n",
       "    </tr>\n",
       "  </tbody>\n",
       "</table>\n",
       "</div>"
      ],
      "text/plain": [
       "     #  processing_stats  dataflow_stats  \\\n",
       "0  1.0          0.038602        0.083391   \n",
       "1  2.0          0.034283        0.078344   \n",
       "2  3.0          0.033905        0.034680   \n",
       "3  4.0          0.033867        0.034673   \n",
       "4  5.0          0.033948        0.034403   \n",
       "\n",
       "   log_training_results (EPOCH_COMPLETED)  \\\n",
       "0                               19.283556   \n",
       "1                               19.422510   \n",
       "2                                0.000000   \n",
       "3                                0.000000   \n",
       "4                                0.000000   \n",
       "\n",
       "   log_validation_results (EPOCH_COMPLETED)  log_epoch_time (EPOCH_COMPLETED)  \\\n",
       "0                                  3.044708                          0.000036   \n",
       "1                                  3.089813                          0.000035   \n",
       "2                                  0.000000                          0.000000   \n",
       "3                                  0.000000                          0.000000   \n",
       "4                                  0.000000                          0.000000   \n",
       "\n",
       "   BasicTimeProfiler._as_first_started (STARTED)  log_total_time (COMPLETED)  \n",
       "0                                       0.000238                    0.000035  \n",
       "1                                       0.000000                    0.000000  \n",
       "2                                       0.000000                    0.000000  \n",
       "3                                       0.000000                    0.000000  \n",
       "4                                       0.000000                    0.000000  "
      ]
     },
     "execution_count": 14,
     "metadata": {},
     "output_type": "execute_result"
    }
   ],
   "source": [
    "handlers_profile = pd.read_csv(\"./handlers_profile.csv\")\n",
    "handlers_profile.head()"
   ]
  },
  {
   "cell_type": "markdown",
   "metadata": {
    "id": "HWsePEmAWNmP"
   },
   "source": [
    "## Custom profiling using Timer\n",
    "\n",
    "At the lowest level of abstraction, we provide [`Timer()`](https://pytorch.org/ignite/generated/ignite.handlers.timing.Timer.html#timer) to calculate the time between any set of events. See its docstring for details."
   ]
  },
  {
   "cell_type": "markdown",
   "metadata": {},
   "source": [
    "### Elapsed Training Time"
   ]
  },
  {
   "cell_type": "markdown",
   "metadata": {},
   "source": [
    "[`Timer()`](https://pytorch.org/ignite/generated/ignite.handlers.timing.Timer.html#timer) can be used, for example, to compute elapsed training time during training."
   ]
  },
  {
   "cell_type": "code",
   "execution_count": 15,
   "metadata": {},
   "outputs": [
    {
     "name": "stdout",
     "output_type": "stream",
     "text": [
      "Training Results - Epoch[3] Avg accuracy: 1.00 Avg loss: 0.03\n",
      "Validation Results - Epoch[3] Avg accuracy: 0.99 Avg loss: 0.04\n",
      "Epoch 3, Time Taken : 30.658846139907837\n",
      "   Elapsed time: 53.56475164310541\n",
      "Total Time: 53.569334983825684\n"
     ]
    },
    {
     "data": {
      "text/plain": [
       "State:\n",
       "\titeration: 1407\n",
       "\tepoch: 3\n",
       "\tepoch_length: 469\n",
       "\tmax_epochs: 3\n",
       "\toutput: 0.05323924496769905\n",
       "\tbatch: <class 'list'>\n",
       "\tmetrics: <class 'dict'>\n",
       "\tdataloader: <class 'torch.utils.data.dataloader.DataLoader'>\n",
       "\tseed: <class 'NoneType'>\n",
       "\ttimes: <class 'dict'>"
      ]
     },
     "execution_count": 15,
     "metadata": {},
     "output_type": "execute_result"
    }
   ],
   "source": [
    "elapsed_time = Timer()\n",
    "\n",
    "elapsed_time.attach(\n",
    "    trainer,\n",
    "    start=Events.STARTED,         # Start timer at the beginning of training\n",
    "    resume=Events.EPOCH_STARTED,  # Resume timer at the beginning of each epoch\n",
    "    pause=Events.EPOCH_COMPLETED, # Pause timer at the end of each epoch\n",
    "    step=Events.EPOCH_COMPLETED,  # Step (update) timer at the end of each epoch\n",
    ")\n",
    "\n",
    "@trainer.on(Events.EPOCH_COMPLETED)\n",
    "def log_elapsed_time(trainer):\n",
    "    print(f\"   Elapsed time: {elapsed_time.value()}\")\n",
    "\n",
    "trainer.run(train_loader, max_epochs=3)"
   ]
  }
 ],
 "metadata": {
  "accelerator": "GPU",
  "colab": {
   "collapsed_sections": [],
   "name": "time-profiling.ipynb",
   "provenance": []
  },
  "kernelspec": {
   "display_name": "Python 3",
   "language": "python",
   "name": "python3"
  },
  "language_info": {
   "codemirror_mode": {
    "name": "ipython",
    "version": 3
   },
   "file_extension": ".py",
   "mimetype": "text/x-python",
   "name": "python",
   "nbconvert_exporter": "python",
   "pygments_lexer": "ipython3",
   "version": "3.9.10"
  }
 },
 "nbformat": 4,
 "nbformat_minor": 2
}
