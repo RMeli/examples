{
  "cells": [
    {
      "cell_type": "markdown",
      "metadata": {
        "id": "_1FzCFk3a1S3"
      },
      "source": [
        "<!-- ---\n",
        "title: How to do time profiling\n",
        "weight: 3\n",
        "downloads: true\n",
        "sidebar: true\n",
        "summary: Learn how to get the time breakdown for individual epochs during training, individual events, all handlers corresponding to an event, individual handlers, data loading and data processing using Engine's State, BasicTimeProfiler and HandlersTimeProfiler.\n",
        "tags:\n",
        "  - time-profiling\n",
        "  - engine.state.times\n",
        "  - BasicTimeProfiler\n",
        "  - HandlersTimeProfiler\n",
        "--- -->\n",
        "# How to do time profiling"
      ]
    },
    {
      "cell_type": "markdown",
      "metadata": {
        "id": "2J7z60CkssXg"
      },
      "source": [
        "This example demonstrates how you can get the time breakdown for:\n",
        "- Individual epochs during training\n",
        "- Total training time\n",
        "- Individual [`Events`](https://pytorch.org/ignite/concepts.html#events-and-handlers)\n",
        "- All [`Handlers`](https://pytorch.org/ignite/concepts.html#handlers) correspoding to an `Event`\n",
        "- Individual `Handlers`\n",
        "- Data loading and Data processing.\n",
        "\n",
        "In this example, we will be using a ResNet18 model on the MNIST dataset. The base code is the same as used in the [Getting Started Guide](https://pytorch-ignite.ai/tutorials/getting-started/)."
      ]
    },
    {
      "cell_type": "markdown",
      "metadata": {
        "id": "THcUNAgpWMDF"
      },
      "source": [
        "## Basic Setup"
      ]
    },
    {
      "cell_type": "code",
      "execution_count": null,
      "metadata": {
        "id": "Y0sJP9iFa1TB",
        "pycharm": {
          "is_executing": false
        }
      },
      "outputs": [],
      "source": [
        "import pandas as pd\n",
        "\n",
        "import torch\n",
        "from torch import nn\n",
        "from torch.utils.data import DataLoader\n",
        "from torchvision.datasets import MNIST\n",
        "from torchvision.models import resnet18\n",
        "from torchvision.transforms import Compose, Normalize, ToTensor\n",
        "\n",
        "from ignite.engine import Events, create_supervised_trainer, create_supervised_evaluator\n",
        "from ignite.metrics import Accuracy, Loss\n",
        "from ignite.handlers import Timer, BasicTimeProfiler, HandlersTimeProfiler"
      ]
    },
    {
      "cell_type": "code",
      "execution_count": null,
      "metadata": {
        "id": "iK_9cOP6a1TI"
      },
      "outputs": [],
      "source": [
        "device = torch.device(\"cuda\" if torch.cuda.is_available() else \"cpu\")\n",
        "\n",
        "\n",
        "class Net(nn.Module):\n",
        "    def __init__(self):\n",
        "        super(Net, self).__init__()\n",
        "\n",
        "        self.model = resnet18(num_classes=10)\n",
        "        self.model.conv1 = nn.Conv2d(1, 64, kernel_size=3, padding=1, bias=False)\n",
        "\n",
        "    def forward(self, x):\n",
        "        return self.model(x)\n",
        "\n",
        "\n",
        "model = Net().to(device)\n",
        "\n",
        "data_transform = Compose([ToTensor(), Normalize((0.1307,), (0.3081,))])\n",
        "\n",
        "train_loader = DataLoader(\n",
        "    MNIST(download=True, root=\".\", transform=data_transform, train=True),\n",
        "    batch_size=128,\n",
        "    shuffle=True,\n",
        ")\n",
        "\n",
        "val_loader = DataLoader(\n",
        "    MNIST(download=True, root=\".\", transform=data_transform, train=False),\n",
        "    batch_size=256,\n",
        "    shuffle=False,\n",
        ")\n",
        "\n",
        "optimizer = torch.optim.RMSprop(model.parameters(), lr=0.005)\n",
        "criterion = nn.CrossEntropyLoss()"
      ]
    },
    {
      "cell_type": "markdown",
      "metadata": {
        "id": "WUHh-vc73eut"
      },
      "source": [
        "We attach two handlers to the `trainer` to print out the metrics ([`Accuracy`](https://pytorch.org/ignite/generated/ignite.metrics.Accuracy.html#accuracy) and [`Loss`](https://pytorch.org/ignite/generated/ignite.metrics.Loss.html#loss)) of the train and validation dataset at the end of every epoch."
      ]
    },
    {
      "cell_type": "code",
      "execution_count": null,
      "metadata": {
        "id": "ItoswUK-23St"
      },
      "outputs": [],
      "source": [
        "trainer = create_supervised_trainer(model, optimizer, criterion, device=device)\n",
        "evaluator = create_supervised_evaluator(\n",
        "    model, metrics={\"accuracy\": Accuracy(), \"loss\": Loss(criterion)}, device=device\n",
        ")\n",
        "\n",
        "\n",
        "@trainer.on(Events.EPOCH_COMPLETED)\n",
        "def log_training_results(trainer):\n",
        "    evaluator.run(train_loader)\n",
        "    metrics = evaluator.state.metrics\n",
        "    print(\n",
        "        f\"Training Results - Epoch[{trainer.state.epoch}] Avg accuracy: {metrics['accuracy']:.2f} Avg loss: {metrics['loss']:.2f}\"\n",
        "    )\n",
        "\n",
        "\n",
        "@trainer.on(Events.EPOCH_COMPLETED)\n",
        "def log_validation_results(trainer):\n",
        "    evaluator.run(val_loader)\n",
        "    metrics = evaluator.state.metrics\n",
        "    print(\n",
        "        f\"Validation Results - Epoch[{trainer.state.epoch}] Avg accuracy: {metrics['accuracy']:.2f} Avg loss: {metrics['loss']:.2f}\"\n",
        "    )"
      ]
    },
    {
      "cell_type": "markdown",
      "metadata": {
        "id": "kTD4UFuZWUSe"
      },
      "source": [
        "## Using `State` of Events\n",
        "\n",
        "If we just want to print the time taken for every epoch and the total time for training we can simply use the `trainer`'s [`State`](https://pytorch.org/ignite/generated/ignite.engine.events.State.html#ignite.engine.events.State). We attach two separate handlers fired when an epoch is completed and when the training is completed to log the time returned by `trainer.state.times`."
      ]
    },
    {
      "cell_type": "code",
      "execution_count": null,
      "metadata": {
        "id": "2m1pOALZ3vCO"
      },
      "outputs": [],
      "source": [
        "@trainer.on(Events.EPOCH_COMPLETED)\n",
        "def log_epoch_time():\n",
        "    print(\n",
        "        f\"Epoch {trainer.state.epoch}, Time Taken : {trainer.state.times['EPOCH_COMPLETED']}\"\n",
        "    )\n",
        "\n",
        "\n",
        "@trainer.on(Events.COMPLETED)\n",
        "def log_total_time():\n",
        "    print(f\"Total Time: {trainer.state.times['COMPLETED']}\")"
      ]
    },
    {
      "cell_type": "code",
      "execution_count": null,
      "metadata": {
        "colab": {
          "base_uri": "https://localhost:8080/"
        },
        "id": "hmdHZIDIABc9",
        "outputId": "6b4cbdb9-870f-44b4-d8ff-70be57a5c847"
      },
      "outputs": [],
      "source": [
        "trainer.run(train_loader, max_epochs=2)"
      ]
    },
    {
      "cell_type": "markdown",
      "metadata": {
        "id": "IlT7TUokNIQ7"
      },
      "source": [
        "## Event-based profiling using `BasicTimeProfiler`\n",
        "\n",
        "If we want more information such as the time taken by data processing, data loading and all pre-defined events, we can use [`BasicTimeProfiler()`](https://pytorch.org/ignite/generated/ignite.handlers.time_profilers.BasicTimeProfiler.html#basictimeprofiler)."
      ]
    },
    {
      "cell_type": "code",
      "execution_count": null,
      "metadata": {
        "colab": {
          "base_uri": "https://localhost:8080/"
        },
        "id": "dU37erdra1TK",
        "outputId": "296cf759-0c9d-45f2-c2cf-6911b464b21f"
      },
      "outputs": [],
      "source": [
        "# Attach basic profiler\n",
        "basic_profiler = BasicTimeProfiler()\n",
        "basic_profiler.attach(trainer)\n",
        "\n",
        "trainer.run(train_loader, max_epochs=2)"
      ]
    },
    {
      "cell_type": "markdown",
      "metadata": {
        "id": "1zGDVT4ACJSN"
      },
      "source": [
        "We can then obtain the results dictionary via [`get_results()`](https://pytorch.org/ignite/generated/ignite.handlers.time_profilers.BasicTimeProfiler.html#ignite.handlers.time_profilers.BasicTimeProfiler.get_results) and pass it to [`print_results()`](https://pytorch.org/ignite/generated/ignite.handlers.time_profilers.BasicTimeProfiler.html#ignite.handlers.time_profilers.BasicTimeProfiler.print_results) to get a nicely formatted output which contains total, minimum, maximum, mean and the standard deviation of the time taken."
      ]
    },
    {
      "cell_type": "code",
      "execution_count": null,
      "metadata": {
        "colab": {
          "base_uri": "https://localhost:8080/"
        },
        "id": "dPxd8R82BfKZ",
        "outputId": "2540f3ff-3986-42d7-c940-7fcd46ef6d13"
      },
      "outputs": [],
      "source": [
        "results = basic_profiler.get_results()\n",
        "basic_profiler.print_results(results);"
      ]
    },
    {
      "cell_type": "markdown",
      "metadata": {
        "id": "YFzTSk-EChQd"
      },
      "source": [
        "**Note**: This approach does not get the time taken by an individual handler rather the sum of the time taken by all handlers corresponding to a pre-defined event."
      ]
    },
    {
      "cell_type": "markdown",
      "metadata": {
        "id": "orRhb-Z1N8vq"
      },
      "source": [
        "## Handler-based profiling using `HandlersTimeProfiler`\n",
        "\n",
        "We can overcome the above problem by using [`HandlersTimeProfiler`](https://pytorch.org/ignite/generated/ignite.handlers.time_profilers.HandlersTimeProfiler.html#handlerstimeprofiler) which gives us only the necessary information. We can also calculate the time taken by handlers attached to [`Custom Events`](https://pytorch.org/ignite/concepts.html#custom-events), which was not previously possible, via this."
      ]
    },
    {
      "cell_type": "code",
      "execution_count": null,
      "metadata": {
        "id": "zdWobxOs_nuO"
      },
      "outputs": [],
      "source": [
        "# Attach handlers profiler\n",
        "handlers_profiler = HandlersTimeProfiler()\n",
        "handlers_profiler.attach(trainer)"
      ]
    },
    {
      "cell_type": "code",
      "execution_count": null,
      "metadata": {
        "colab": {
          "base_uri": "https://localhost:8080/"
        },
        "id": "ZJd487jMBqw2",
        "outputId": "3b6c2813-1847-4d0a-f7c1-87ef8e9df544"
      },
      "outputs": [],
      "source": [
        "trainer.run(train_loader, max_epochs=2)"
      ]
    },
    {
      "cell_type": "markdown",
      "metadata": {
        "id": "T_AIlhvqa1TK"
      },
      "source": [
        "We can print the results of the profiler in the same way as above. The output shows total, average and other details of execution time for each handler attached. It also shows the data processing and data loading times."
      ]
    },
    {
      "cell_type": "code",
      "execution_count": null,
      "metadata": {
        "colab": {
          "base_uri": "https://localhost:8080/"
        },
        "id": "S8J8iWyUa1TL",
        "outputId": "d8ccdbe9-f207-4ac7-a090-273716dee5a4"
      },
      "outputs": [],
      "source": [
        "results = handlers_profiler.get_results()\n",
        "handlers_profiler.print_results(results)"
      ]
    },
    {
      "cell_type": "markdown",
      "metadata": {
        "id": "F0yJpyC7a1TM"
      },
      "source": [
        "The profiling results obtained by `basic_profiler` and `handler_profiler` can be exported to a CSV file by using the `write_results()` method."
      ]
    },
    {
      "cell_type": "code",
      "execution_count": null,
      "metadata": {
        "id": "_6a0t-Xha1TM"
      },
      "outputs": [],
      "source": [
        "basic_profiler.write_results(\"./basic_profile.csv\")\n",
        "handlers_profiler.write_results(\"./handlers_profile.csv\")"
      ]
    },
    {
      "cell_type": "markdown",
      "metadata": {
        "id": "-hG8hYQba1TM"
      },
      "source": [
        "If we inspect the CSV file of `basic_profiler` we can see the depth of information stored for every iteration."
      ]
    },
    {
      "cell_type": "code",
      "execution_count": null,
      "metadata": {
        "colab": {
          "base_uri": "https://localhost:8080/",
          "height": 226
        },
        "id": "f4ZiVInXa1TO",
        "outputId": "1377a07d-d963-4d3b-dcd1-0b68179a56a2"
      },
      "outputs": [],
      "source": [
        "basic_profile = pd.read_csv(\"./basic_profile.csv\")\n",
        "basic_profile.head()"
      ]
    },
    {
      "cell_type": "markdown",
      "metadata": {
        "id": "Tj06RU9AON93"
      },
      "source": [
        "The `handlers_profile` CSV stores the details for whenever a handler was evoked which corresponds to the number of rows. "
      ]
    },
    {
      "cell_type": "code",
      "execution_count": null,
      "metadata": {
        "colab": {
          "base_uri": "https://localhost:8080/",
          "height": 224
        },
        "id": "GHCbe28yG0bB",
        "outputId": "545566cb-ddac-484f-f7d3-9d7560e1e5c8"
      },
      "outputs": [],
      "source": [
        "handlers_profile = pd.read_csv(\"./handlers_profile.csv\")\n",
        "handlers_profile.head()"
      ]
    },
    {
      "cell_type": "markdown",
      "metadata": {
        "id": "HWsePEmAWNmP"
      },
      "source": [
        "## Custom profiling using Timer\n",
        "\n",
        "At the lowest level of abstraction, we provide [`Timer()`](https://pytorch.org/ignite/generated/ignite.handlers.timing.Timer.html#timer) to calculate the time between any set of events. See its docstring for details."
      ]
    },
    {
      "cell_type": "markdown",
      "metadata": {},
      "source": [
        "### Elapsed Training Time"
      ]
    },
    {
      "cell_type": "markdown",
      "metadata": {},
      "source": [
        "The [`Timer()`](https://pytorch.org/ignite/generated/ignite.handlers.timing.Timer.html#timer) can be used to compute elapsed training time during training."
      ]
    },
    {
      "cell_type": "code",
      "execution_count": null,
      "metadata": {},
      "outputs": [],
      "source": [
        "elapsed_time = timing.Timer()\n",
        "\n",
        "elapsed_time.attach(\n",
        "    trainer,\n",
        "    start=Events.STARTED,         # Start timer at the beginning of training\n",
        "    resume=Events.EPOCH_STARTED,  # Resume timer at the beginning of each epoch\n",
        "    pause=Events.EPOCH_COMPLETED, # Pause timer at the end of each epoch\n",
        "    step=Events.EPOCH_COMPLETED,  # Step (update) timer at the end of each epoch\n",
        ")\n",
        "\n",
        "@trainer.on(Events.EPOCH_COMPLETED)\n",
        "def log_elapsed_time(trainer):\n",
        "    print(f\"Epoch {trainer.state.epoch}, Elapsed time: {elapsed_time.value()}\")\n",
        "\n",
        "trainer.run(train_loader, max_epochs=3)"
      ]
    },
    {
      "cell_type": "markdown",
      "metadata": {},
      "source": []
    }
  ],
  "metadata": {
    "accelerator": "GPU",
    "colab": {
      "collapsed_sections": [],
      "name": "time-profiling.ipynb",
      "provenance": []
    },
    "kernelspec": {
      "display_name": "Python 3",
      "language": "python",
      "name": "python3"
    },
    "language_info": {
      "codemirror_mode": {
        "name": "ipython",
        "version": 3
      },
      "file_extension": ".py",
      "mimetype": "text/x-python",
      "name": "python",
      "nbconvert_exporter": "python",
      "pygments_lexer": "ipython3",
      "version": "3.8.12"
    }
  },
  "nbformat": 4,
  "nbformat_minor": 2
}
